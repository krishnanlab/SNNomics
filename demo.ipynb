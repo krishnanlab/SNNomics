{
 "cells": [
  {
   "cell_type": "markdown",
   "source": [
    "# SNNomics demo \n",
    "\n",
    "![Overview](imgs/overview.png)"
   ],
   "metadata": {
    "collapsed": false
   },
   "id": "83d5c914f0afc17b"
  },
  {
   "cell_type": "markdown",
   "source": [
    "## Import modules"
   ],
   "metadata": {
    "collapsed": false
   },
   "id": "5e84d5a66c4b38f7"
  },
  {
   "cell_type": "code",
   "outputs": [],
   "source": [
    "import torch\n",
    "import numpy as np\n",
    "import pandas as pd\n",
    "import torch.nn as nn\n",
    "from pathlib import Path\n",
    "from SNNomics.network import SNN"
   ],
   "metadata": {
    "collapsed": false
   },
   "id": "a35a03f34657d3d7"
  },
  {
   "cell_type": "markdown",
   "source": [
    "## Load data"
   ],
   "metadata": {
    "collapsed": false
   },
   "id": "e2623dd7f0df1e88"
  },
  {
   "cell_type": "code",
   "outputs": [],
   "source": [
    "query_sample = np.load(\"data/query_sample.npy\")\n",
    "database = np.load(\"data/test_database.npz\")\n",
    "database_expression = database[\"expression\"]\n",
    "database_ids = database['gsms']\n",
    "labels = pd.read_csv('data/tissue_labels.csv', index_col=0)\n",
    "onto_map = pd.read_csv('data/onto_map.csv')"
   ],
   "metadata": {
    "collapsed": false
   },
   "id": "a5cab2df0fff6c1"
  },
  {
   "cell_type": "markdown",
   "source": [
    "## Compute similarities between the query and all other samples"
   ],
   "metadata": {
    "collapsed": false
   },
   "id": "60a22b98cded1fd9"
  },
  {
   "cell_type": "code",
   "outputs": [],
   "source": [
    "num_genes = len(query_sample)   # Number of genes for input dimension\n",
    "num_samples = len(database_ids) # Number of samples to iterate through\n",
    "model = SNN(num_genes)  # Initialize model\n",
    "\n",
    "query = torch.from_numpy(query_sample)\n",
    "\n",
    "results = {'id': [], 'similarity': []}\n",
    "for sample in range(num_samples):\n",
    "    z = torch.from_numpy(database_expression[sample, :])\n",
    "    similarity = model(query, z)\n",
    "    \n",
    "    results['id'].append(database_ids[sample])\n",
    "    results['similarity'].append(similarity.item())\n",
    "    \n",
    "results_df = pd.DataFrame.from_dict(results)"
   ],
   "metadata": {
    "collapsed": false
   },
   "id": "76895eb49e8f63fb"
  },
  {
   "cell_type": "markdown",
   "source": [
    "## Map tissue labels to samples"
   ],
   "metadata": {
    "collapsed": false
   },
   "id": "7ba6c39f41aee807"
  },
  {
   "cell_type": "code",
   "outputs": [],
   "source": [
    "def assign_labels(gsm: str, labels_df: pd.DataFrame, onto_map: pd.DataFrame) -> str:\n",
    "    terms = labels_df.columns[labels_df.loc[gsm] == 1].tolist()\n",
    "    term_names = []\n",
    "    for term in terms:\n",
    "        term_names.append(onto_map.loc[onto_map['id'] == term, 'name'].item())\n",
    "    \n",
    "    return ','.join(term_names)\n",
    "\n",
    "results_df['tissues'] = results_df['id'].apply(assign_labels, labels_df=labels, onto_map=onto_map)\n",
    "\n",
    "\n",
    "print(f\"Query tissue: heart\")\n",
    "print(results_df.head(20))"
   ],
   "metadata": {
    "collapsed": false
   },
   "id": "ea70974098438f4d"
  }
 ],
 "metadata": {
  "kernelspec": {
   "display_name": "Python 3",
   "language": "python",
   "name": "python3"
  },
  "language_info": {
   "codemirror_mode": {
    "name": "ipython",
    "version": 2
   },
   "file_extension": ".py",
   "mimetype": "text/x-python",
   "name": "python",
   "nbconvert_exporter": "python",
   "pygments_lexer": "ipython2",
   "version": "2.7.6"
  }
 },
 "nbformat": 4,
 "nbformat_minor": 5
}
